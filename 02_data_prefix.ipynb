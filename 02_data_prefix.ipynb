{
 "cells": [
  {
   "cell_type": "code",
   "execution_count": 226,
   "metadata": {},
   "outputs": [],
   "source": [
    "# 02_data_prefix.ipynb\n",
    "# Given an event log, it extracts its 'prefix' (the first n events)"
   ]
  },
  {
   "cell_type": "code",
   "execution_count": 227,
   "metadata": {},
   "outputs": [],
   "source": [
    "### IMPORT ###\n",
    "from pathlib import Path\n",
    "from datetime import datetime\n",
    "import pandas as pd"
   ]
  },
  {
   "cell_type": "code",
   "execution_count": 228,
   "metadata": {},
   "outputs": [],
   "source": [
    "### LOCAL IMPORT ###\n",
    "from config import config_reader"
   ]
  },
  {
   "cell_type": "code",
   "execution_count": 229,
   "metadata": {},
   "outputs": [],
   "source": [
    "### GLOBALS ###\n",
    "yaml_config = config_reader.config_read_yaml(\"config.yml\", \"config\")\n",
    "# print(yaml_config) # debug\n",
    "data_log_dir = str(yaml_config['DATA_LOG_DIR'])\n",
    "data_file = \"EVENT-LOG_ED_filtered.csv\" # input\n",
    "# event log columns\n",
    "log_key_col = str(yaml_config['LOG_KEY_COL'])\n",
    "log_timestamp_col = str(yaml_config['LOG_TIMESTAMP_COL'])\n",
    "# prefix length\n",
    "prefix_min = int(yaml_config['PREF_MIN_VALUE'])\n",
    "prefix_max = int(yaml_config['PREF_MAX_VALUE'])\n",
    "prefix_list = list(range(prefix_min, prefix_max + 1)) "
   ]
  },
  {
   "cell_type": "markdown",
   "metadata": {},
   "source": [
    "### FUNCTIONS ###"
   ]
  },
  {
   "cell_type": "code",
   "execution_count": 230,
   "metadata": {},
   "outputs": [],
   "source": [
    "# Function to get the top n rows per caseid\n",
    "def get_top_n_rows_per_caseid(df:pd.DataFrame, n:int, timestamp_col:str) ->pd.DataFrame:\n",
    "    \"\"\"\n",
    "    This function sorts a DataFrame by 'caseid' and 'timestamp', and then selects the top n rows for each 'caseid'.\n",
    "\n",
    "    Parameters:\n",
    "        df (pd.DataFrame): The input DataFrame which must contain 'caseid' and 'timestamp' columns.\n",
    "        n (int): The number of top rows to select for each 'caseid'.\n",
    "        timestamp_col (str): The name of the column representing timestamps.\n",
    "\n",
    "    Returns:\n",
    "        pd.DataFrame: A DataFrame containing the top n rows for each 'caseid', sorted by 'caseid' and 'timestamp'.\n",
    "    \"\"\"\n",
    "    # Ensure the timestamp column is in datetime format\n",
    "    if not pd.api.types.is_datetime64_any_dtype(df[timestamp_col]):\n",
    "        df[timestamp_col] = pd.to_datetime(df[timestamp_col])\n",
    "    \n",
    "    # Sort the DataFrame by 'caseid' and 'timestamp'\n",
    "    df_sorted = df.sort_values(by=['CaseID', timestamp_col])\n",
    "    \n",
    "    # Get the top n rows for each 'caseid'\n",
    "    top_n_df = df_sorted.groupby('CaseID').head(n)\n",
    "    \n",
    "    return top_n_df"
   ]
  },
  {
   "cell_type": "markdown",
   "metadata": {},
   "source": [
    "### MAIN ###"
   ]
  },
  {
   "cell_type": "code",
   "execution_count": 231,
   "metadata": {},
   "outputs": [
    {
     "name": "stdout",
     "output_type": "stream",
     "text": [
      "\n",
      "*** PROGRAM START ***\n",
      "\n",
      "Start process: 2024-05-31 12:05:13\n",
      "\n"
     ]
    }
   ],
   "source": [
    "print()\n",
    "print(\"*** PROGRAM START ***\")\n",
    "print()\n",
    "\n",
    "start_time = datetime.now().replace(microsecond=0)\n",
    "print(\"Start process:\", str(start_time))\n",
    "print()"
   ]
  },
  {
   "cell_type": "code",
   "execution_count": 232,
   "metadata": {},
   "outputs": [
    {
     "name": "stdout",
     "output_type": "stream",
     "text": [
      ">> Reading event data\n",
      "Initial data shape: (5786, 7)\n",
      "Event log columns (features): Index(['CaseID', 'ACTIVITY', 'TIMESTAMP', 'RESOURCE', 'ESI', 'OUTCOME',\n",
      "       'INPAT-HOSP-DEP'],\n",
      "      dtype='object')\n"
     ]
    }
   ],
   "source": [
    "print(\">> Reading event data\")\n",
    "path_data = Path(data_log_dir) / data_file\n",
    "df_log = pd.read_csv(path_data, sep = \";\")\n",
    "print(\"Initial data shape:\", df_log.shape) # rows x cols\n",
    "print(\"Event log columns (features):\", df_log.columns) "
   ]
  },
  {
   "cell_type": "code",
   "execution_count": 233,
   "metadata": {},
   "outputs": [
    {
     "data": {
      "text/html": [
       "<div>\n",
       "<style scoped>\n",
       "    .dataframe tbody tr th:only-of-type {\n",
       "        vertical-align: middle;\n",
       "    }\n",
       "\n",
       "    .dataframe tbody tr th {\n",
       "        vertical-align: top;\n",
       "    }\n",
       "\n",
       "    .dataframe thead th {\n",
       "        text-align: right;\n",
       "    }\n",
       "</style>\n",
       "<table border=\"1\" class=\"dataframe\">\n",
       "  <thead>\n",
       "    <tr style=\"text-align: right;\">\n",
       "      <th></th>\n",
       "      <th>CaseID</th>\n",
       "      <th>ACTIVITY</th>\n",
       "      <th>TIMESTAMP</th>\n",
       "      <th>RESOURCE</th>\n",
       "      <th>ESI</th>\n",
       "      <th>OUTCOME</th>\n",
       "      <th>INPAT-HOSP-DEP</th>\n",
       "    </tr>\n",
       "  </thead>\n",
       "  <tbody>\n",
       "    <tr>\n",
       "      <th>0</th>\n",
       "      <td>2022090005</td>\n",
       "      <td>TRIAGE</td>\n",
       "      <td>2022-09-01 01:14:02</td>\n",
       "      <td>NURS_0</td>\n",
       "      <td>4</td>\n",
       "      <td>A domicilio</td>\n",
       "      <td>-</td>\n",
       "    </tr>\n",
       "    <tr>\n",
       "      <th>1</th>\n",
       "      <td>2022090005</td>\n",
       "      <td>PRESA IN CARICO</td>\n",
       "      <td>2022-09-01 01:20:00</td>\n",
       "      <td>DOCT_3</td>\n",
       "      <td>4</td>\n",
       "      <td>A domicilio</td>\n",
       "      <td>-</td>\n",
       "    </tr>\n",
       "    <tr>\n",
       "      <th>2</th>\n",
       "      <td>2022090005</td>\n",
       "      <td>RX</td>\n",
       "      <td>2022-09-01 01:21:01</td>\n",
       "      <td>-</td>\n",
       "      <td>4</td>\n",
       "      <td>A domicilio</td>\n",
       "      <td>-</td>\n",
       "    </tr>\n",
       "    <tr>\n",
       "      <th>3</th>\n",
       "      <td>2022090005</td>\n",
       "      <td>CONSULENZA</td>\n",
       "      <td>2022-09-01 02:36:12</td>\n",
       "      <td>-</td>\n",
       "      <td>4</td>\n",
       "      <td>A domicilio</td>\n",
       "      <td>-</td>\n",
       "    </tr>\n",
       "    <tr>\n",
       "      <th>4</th>\n",
       "      <td>2022090005</td>\n",
       "      <td>DIMISSIONE</td>\n",
       "      <td>2022-09-01 02:38:00</td>\n",
       "      <td>-</td>\n",
       "      <td>4</td>\n",
       "      <td>A domicilio</td>\n",
       "      <td>-</td>\n",
       "    </tr>\n",
       "    <tr>\n",
       "      <th>...</th>\n",
       "      <td>...</td>\n",
       "      <td>...</td>\n",
       "      <td>...</td>\n",
       "      <td>...</td>\n",
       "      <td>...</td>\n",
       "      <td>...</td>\n",
       "      <td>...</td>\n",
       "    </tr>\n",
       "    <tr>\n",
       "      <th>5781</th>\n",
       "      <td>2022093475</td>\n",
       "      <td>DIMISSIONE</td>\n",
       "      <td>2022-10-01 17:32:00</td>\n",
       "      <td>-</td>\n",
       "      <td>2</td>\n",
       "      <td>Ricoverato</td>\n",
       "      <td>CARDIOLOGIA RO</td>\n",
       "    </tr>\n",
       "    <tr>\n",
       "      <th>5782</th>\n",
       "      <td>2022093479</td>\n",
       "      <td>TRIAGE</td>\n",
       "      <td>2022-09-30 23:58:38</td>\n",
       "      <td>NURS_8</td>\n",
       "      <td>4</td>\n",
       "      <td>A domicilio</td>\n",
       "      <td>-</td>\n",
       "    </tr>\n",
       "    <tr>\n",
       "      <th>5783</th>\n",
       "      <td>2022093479</td>\n",
       "      <td>PRESA IN CARICO</td>\n",
       "      <td>2022-10-01 00:51:00</td>\n",
       "      <td>DOCT_1</td>\n",
       "      <td>4</td>\n",
       "      <td>A domicilio</td>\n",
       "      <td>-</td>\n",
       "    </tr>\n",
       "    <tr>\n",
       "      <th>5784</th>\n",
       "      <td>2022093479</td>\n",
       "      <td>LABORATORIO</td>\n",
       "      <td>2022-10-01 01:00:12</td>\n",
       "      <td>-</td>\n",
       "      <td>4</td>\n",
       "      <td>A domicilio</td>\n",
       "      <td>-</td>\n",
       "    </tr>\n",
       "    <tr>\n",
       "      <th>5785</th>\n",
       "      <td>2022093479</td>\n",
       "      <td>DIMISSIONE</td>\n",
       "      <td>2022-10-01 07:34:00</td>\n",
       "      <td>-</td>\n",
       "      <td>4</td>\n",
       "      <td>A domicilio</td>\n",
       "      <td>-</td>\n",
       "    </tr>\n",
       "  </tbody>\n",
       "</table>\n",
       "<p>5786 rows × 7 columns</p>\n",
       "</div>"
      ],
      "text/plain": [
       "          CaseID         ACTIVITY            TIMESTAMP RESOURCE  ESI  \\\n",
       "0     2022090005           TRIAGE  2022-09-01 01:14:02   NURS_0    4   \n",
       "1     2022090005  PRESA IN CARICO  2022-09-01 01:20:00   DOCT_3    4   \n",
       "2     2022090005               RX  2022-09-01 01:21:01        -    4   \n",
       "3     2022090005       CONSULENZA  2022-09-01 02:36:12        -    4   \n",
       "4     2022090005       DIMISSIONE  2022-09-01 02:38:00        -    4   \n",
       "...          ...              ...                  ...      ...  ...   \n",
       "5781  2022093475       DIMISSIONE  2022-10-01 17:32:00        -    2   \n",
       "5782  2022093479           TRIAGE  2022-09-30 23:58:38   NURS_8    4   \n",
       "5783  2022093479  PRESA IN CARICO  2022-10-01 00:51:00   DOCT_1    4   \n",
       "5784  2022093479      LABORATORIO  2022-10-01 01:00:12        -    4   \n",
       "5785  2022093479       DIMISSIONE  2022-10-01 07:34:00        -    4   \n",
       "\n",
       "          OUTCOME  INPAT-HOSP-DEP  \n",
       "0     A domicilio               -  \n",
       "1     A domicilio               -  \n",
       "2     A domicilio               -  \n",
       "3     A domicilio               -  \n",
       "4     A domicilio               -  \n",
       "...           ...             ...  \n",
       "5781   Ricoverato  CARDIOLOGIA RO  \n",
       "5782  A domicilio               -  \n",
       "5783  A domicilio               -  \n",
       "5784  A domicilio               -  \n",
       "5785  A domicilio               -  \n",
       "\n",
       "[5786 rows x 7 columns]"
      ]
     },
     "execution_count": 233,
     "metadata": {},
     "output_type": "execute_result"
    }
   ],
   "source": [
    "df_log"
   ]
  },
  {
   "cell_type": "code",
   "execution_count": 234,
   "metadata": {},
   "outputs": [
    {
     "name": "stdout",
     "output_type": "stream",
     "text": [
      ">> Information on event log\n",
      "\n",
      "Cases (distinct 'CaseID' values): 700\n",
      "\n"
     ]
    }
   ],
   "source": [
    "print(\">> Information on event log\")\n",
    "print()\n",
    "# Number of distinct cases\n",
    "cases_num = df_log[log_key_col].nunique()\n",
    "print(f\"Cases (distinct '{log_key_col}' values): {cases_num}\")\n",
    "print()"
   ]
  },
  {
   "cell_type": "code",
   "execution_count": 235,
   "metadata": {},
   "outputs": [
    {
     "name": "stdout",
     "output_type": "stream",
     "text": [
      ">> Prefix extraction\n",
      "\n",
      "Prefix list: [2, 3, 4, 5]\n",
      "\n",
      "> Prefix size: 2\n",
      "Saving the event log prefix\n",
      "Path: data_log/EVENT-LOG_ED_filtered_2.csv\n",
      "\n",
      "> Prefix size: 3\n",
      "Saving the event log prefix\n",
      "Path: data_log/EVENT-LOG_ED_filtered_3.csv\n",
      "\n",
      "> Prefix size: 4\n",
      "Saving the event log prefix\n",
      "Path: data_log/EVENT-LOG_ED_filtered_4.csv\n",
      "\n",
      "> Prefix size: 5\n",
      "Saving the event log prefix\n",
      "Path: data_log/EVENT-LOG_ED_filtered_5.csv\n",
      "\n"
     ]
    }
   ],
   "source": [
    "print(\">> Prefix extraction\")\n",
    "print()\n",
    "print(\"Prefix list:\", prefix_list)\n",
    "print()\n",
    "for prefix_size in prefix_list:\n",
    "    print(\"> Prefix size:\", prefix_size)\n",
    "    df_log_prefix = get_top_n_rows_per_caseid(df_log, prefix_size, log_timestamp_col)\n",
    "    print(\"Saving the event log prefix\")\n",
    "    # ordering\n",
    "    file_out = f\"{Path(data_file).stem}_{prefix_size}.csv\" # get the input file name and add \"_{prefix_size}\"\n",
    "    path_out = Path(data_log_dir) / file_out\n",
    "    print(\"Path:\", path_out)\n",
    "    df_log_prefix.to_csv(path_out, sep=\";\", index=False)\n",
    "    print()"
   ]
  },
  {
   "cell_type": "code",
   "execution_count": 236,
   "metadata": {},
   "outputs": [
    {
     "name": "stdout",
     "output_type": "stream",
     "text": [
      "\n",
      "End process: 2024-05-31 12:05:13\n",
      "Time to finish: 0:00:00\n",
      "\n",
      "*** PROGRAM END ***\n",
      "\n"
     ]
    }
   ],
   "source": [
    "# program END\n",
    "end_time = datetime.now().replace(microsecond=0)\n",
    "delta_time = end_time - start_time\n",
    "\n",
    "print()\n",
    "print(\"End process:\", end_time)\n",
    "print(\"Time to finish:\", delta_time)\n",
    "\n",
    "print()\n",
    "print(\"*** PROGRAM END ***\")\n",
    "print()"
   ]
  }
 ],
 "metadata": {
  "kernelspec": {
   "display_name": "Python 3",
   "language": "python",
   "name": "python3"
  },
  "language_info": {
   "codemirror_mode": {
    "name": "ipython",
    "version": 3
   },
   "file_extension": ".py",
   "mimetype": "text/x-python",
   "name": "python",
   "nbconvert_exporter": "python",
   "pygments_lexer": "ipython3",
   "version": "3.12.2"
  }
 },
 "nbformat": 4,
 "nbformat_minor": 2
}
