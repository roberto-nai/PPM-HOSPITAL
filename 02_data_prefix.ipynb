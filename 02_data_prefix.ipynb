{
 "cells": [
  {
   "cell_type": "code",
   "execution_count": 8,
   "metadata": {},
   "outputs": [],
   "source": [
    "# 02_data_prefix.ipynb\n",
    "# Given an event log, it extracts its 'prefix' (the first n events)"
   ]
  },
  {
   "cell_type": "code",
   "execution_count": 9,
   "metadata": {},
   "outputs": [],
   "source": [
    "### IMPORT ###\n",
    "from pathlib import Path\n",
    "from datetime import datetime\n",
    "import pandas as pd"
   ]
  },
  {
   "cell_type": "code",
   "execution_count": 10,
   "metadata": {},
   "outputs": [],
   "source": [
    "### LOCAL IMPORT ###\n",
    "from config import config_reader"
   ]
  },
  {
   "cell_type": "code",
   "execution_count": 11,
   "metadata": {},
   "outputs": [],
   "source": [
    "### GLOBALS ###\n",
    "yaml_config = config_reader.config_read_yaml(\"config.yml\", \"config\")\n",
    "# print(yaml_config) # debug\n",
    "data_log_dir = str(yaml_config['DATA_LOG_DIR'])\n",
    "data_file = \"EVENT-LOG_ED_filtered.csv\" # input\n",
    "# event log columns\n",
    "log_key_col = str(yaml_config['LOG_KEY_COL'])\n",
    "log_timestamp_col = str(yaml_config['LOG_TIMESTAMP_COL'])\n",
    "# prefix length\n",
    "prefix_min = int(yaml_config['PREF_MIN_VALUE'])\n",
    "prefix_max = int(yaml_config['PREF_MAX_VALUE'])\n",
    "prefix_list = list(range(prefix_min, prefix_max + 1)) "
   ]
  },
  {
   "cell_type": "markdown",
   "metadata": {},
   "source": [
    "### FUNCTIONS ###"
   ]
  },
  {
   "cell_type": "code",
   "execution_count": 12,
   "metadata": {},
   "outputs": [],
   "source": [
    "# Function to get the top n rows per caseid\n",
    "def get_top_n_rows_per_caseid(df:pd.DataFrame, n:int, timestamp_col:str) ->pd.DataFrame:\n",
    "    \"\"\"\n",
    "    This function sorts a DataFrame by 'caseid' and 'timestamp', and then selects the top n rows for each 'caseid'.\n",
    "\n",
    "    Parameters:\n",
    "        df (pd.DataFrame): The input DataFrame which must contain 'caseid' and 'timestamp' columns.\n",
    "        n (int): The number of top rows to select for each 'caseid'.\n",
    "        timestamp_col (str): The name of the column representing timestamps.\n",
    "\n",
    "    Returns:\n",
    "        pd.DataFrame: A DataFrame containing the top n rows for each 'caseid', sorted by 'caseid' and 'timestamp'.\n",
    "    \"\"\"\n",
    "    # Ensure the timestamp column is in datetime format\n",
    "    if not pd.api.types.is_datetime64_any_dtype(df[timestamp_col]):\n",
    "        df[timestamp_col] = pd.to_datetime(df[timestamp_col])\n",
    "    \n",
    "    # Sort the DataFrame by 'caseid' and 'timestamp'\n",
    "    df_sorted = df.sort_values(by=['CaseID', timestamp_col])\n",
    "    \n",
    "    # Get the top n rows for each 'caseid'\n",
    "    top_n_df = df_sorted.groupby('CaseID').head(n)\n",
    "    \n",
    "    return top_n_df"
   ]
  },
  {
   "cell_type": "markdown",
   "metadata": {},
   "source": [
    "### MAIN ###"
   ]
  },
  {
   "cell_type": "code",
   "execution_count": 13,
   "metadata": {},
   "outputs": [
    {
     "name": "stdout",
     "output_type": "stream",
     "text": [
      "\n",
      "*** PROGRAM START ***\n",
      "\n",
      "Start process: 2024-06-12 10:35:10\n",
      "\n"
     ]
    }
   ],
   "source": [
    "print()\n",
    "print(\"*** PROGRAM START ***\")\n",
    "print()\n",
    "\n",
    "start_time = datetime.now().replace(microsecond=0)\n",
    "print(\"Start process:\", str(start_time))\n",
    "print()"
   ]
  },
  {
   "cell_type": "code",
   "execution_count": 14,
   "metadata": {},
   "outputs": [
    {
     "name": "stdout",
     "output_type": "stream",
     "text": [
      ">> Reading event data\n",
      "Initial data shape: (5731, 9)\n",
      "Event log columns (features): Index(['CaseID', 'ACTIVITY', 'TIMESTAMP', 'RESOURCE', 'ESI', 'OUTCOME',\n",
      "       'INPAT-HOSP-DEP', 'CumulativeTimeHours', 'CumulativeTimeDays'],\n",
      "      dtype='object')\n"
     ]
    }
   ],
   "source": [
    "print(\">> Reading event data\")\n",
    "path_data = Path(data_log_dir) / data_file\n",
    "df_log = pd.read_csv(path_data, sep = \";\")\n",
    "print(\"Initial data shape:\", df_log.shape) # rows x cols\n",
    "print(\"Event log columns (features):\", df_log.columns) "
   ]
  },
  {
   "cell_type": "code",
   "execution_count": 15,
   "metadata": {},
   "outputs": [
    {
     "data": {
      "text/html": [
       "<div>\n",
       "<style scoped>\n",
       "    .dataframe tbody tr th:only-of-type {\n",
       "        vertical-align: middle;\n",
       "    }\n",
       "\n",
       "    .dataframe tbody tr th {\n",
       "        vertical-align: top;\n",
       "    }\n",
       "\n",
       "    .dataframe thead th {\n",
       "        text-align: right;\n",
       "    }\n",
       "</style>\n",
       "<table border=\"1\" class=\"dataframe\">\n",
       "  <thead>\n",
       "    <tr style=\"text-align: right;\">\n",
       "      <th></th>\n",
       "      <th>CaseID</th>\n",
       "      <th>ACTIVITY</th>\n",
       "      <th>TIMESTAMP</th>\n",
       "      <th>RESOURCE</th>\n",
       "      <th>ESI</th>\n",
       "      <th>OUTCOME</th>\n",
       "      <th>INPAT-HOSP-DEP</th>\n",
       "      <th>CumulativeTimeHours</th>\n",
       "      <th>CumulativeTimeDays</th>\n",
       "    </tr>\n",
       "  </thead>\n",
       "  <tbody>\n",
       "    <tr>\n",
       "      <th>0</th>\n",
       "      <td>2022090010</td>\n",
       "      <td>TRIAGE</td>\n",
       "      <td>2022-09-01 05:39:15</td>\n",
       "      <td>NURS_2</td>\n",
       "      <td>4</td>\n",
       "      <td>A domicilio</td>\n",
       "      <td>-</td>\n",
       "      <td>0</td>\n",
       "      <td>0</td>\n",
       "    </tr>\n",
       "    <tr>\n",
       "      <th>1</th>\n",
       "      <td>2022090010</td>\n",
       "      <td>PRESA IN CARICO</td>\n",
       "      <td>2022-09-01 05:51:00</td>\n",
       "      <td>DOCT_4</td>\n",
       "      <td>4</td>\n",
       "      <td>A domicilio</td>\n",
       "      <td>-</td>\n",
       "      <td>0</td>\n",
       "      <td>0</td>\n",
       "    </tr>\n",
       "    <tr>\n",
       "      <th>2</th>\n",
       "      <td>2022090010</td>\n",
       "      <td>LABORATORIO</td>\n",
       "      <td>2022-09-01 05:53:20</td>\n",
       "      <td>-</td>\n",
       "      <td>4</td>\n",
       "      <td>A domicilio</td>\n",
       "      <td>-</td>\n",
       "      <td>0</td>\n",
       "      <td>0</td>\n",
       "    </tr>\n",
       "    <tr>\n",
       "      <th>3</th>\n",
       "      <td>2022090010</td>\n",
       "      <td>LABORATORIO</td>\n",
       "      <td>2022-09-01 05:54:39</td>\n",
       "      <td>-</td>\n",
       "      <td>4</td>\n",
       "      <td>A domicilio</td>\n",
       "      <td>-</td>\n",
       "      <td>0</td>\n",
       "      <td>0</td>\n",
       "    </tr>\n",
       "    <tr>\n",
       "      <th>4</th>\n",
       "      <td>2022090010</td>\n",
       "      <td>DIMISSIONE</td>\n",
       "      <td>2022-09-01 13:15:00</td>\n",
       "      <td>-</td>\n",
       "      <td>4</td>\n",
       "      <td>A domicilio</td>\n",
       "      <td>-</td>\n",
       "      <td>7</td>\n",
       "      <td>0</td>\n",
       "    </tr>\n",
       "    <tr>\n",
       "      <th>...</th>\n",
       "      <td>...</td>\n",
       "      <td>...</td>\n",
       "      <td>...</td>\n",
       "      <td>...</td>\n",
       "      <td>...</td>\n",
       "      <td>...</td>\n",
       "      <td>...</td>\n",
       "      <td>...</td>\n",
       "      <td>...</td>\n",
       "    </tr>\n",
       "    <tr>\n",
       "      <th>5726</th>\n",
       "      <td>2022093474</td>\n",
       "      <td>RX</td>\n",
       "      <td>2022-09-30 23:04:32</td>\n",
       "      <td>-</td>\n",
       "      <td>4</td>\n",
       "      <td>A domicilio</td>\n",
       "      <td>-</td>\n",
       "      <td>0</td>\n",
       "      <td>0</td>\n",
       "    </tr>\n",
       "    <tr>\n",
       "      <th>5727</th>\n",
       "      <td>2022093474</td>\n",
       "      <td>RX</td>\n",
       "      <td>2022-09-30 23:04:32</td>\n",
       "      <td>-</td>\n",
       "      <td>4</td>\n",
       "      <td>A domicilio</td>\n",
       "      <td>-</td>\n",
       "      <td>0</td>\n",
       "      <td>0</td>\n",
       "    </tr>\n",
       "    <tr>\n",
       "      <th>5728</th>\n",
       "      <td>2022093474</td>\n",
       "      <td>RX</td>\n",
       "      <td>2022-09-30 23:04:32</td>\n",
       "      <td>-</td>\n",
       "      <td>4</td>\n",
       "      <td>A domicilio</td>\n",
       "      <td>-</td>\n",
       "      <td>0</td>\n",
       "      <td>0</td>\n",
       "    </tr>\n",
       "    <tr>\n",
       "      <th>5729</th>\n",
       "      <td>2022093474</td>\n",
       "      <td>RX</td>\n",
       "      <td>2022-09-30 23:04:32</td>\n",
       "      <td>-</td>\n",
       "      <td>4</td>\n",
       "      <td>A domicilio</td>\n",
       "      <td>-</td>\n",
       "      <td>0</td>\n",
       "      <td>0</td>\n",
       "    </tr>\n",
       "    <tr>\n",
       "      <th>5730</th>\n",
       "      <td>2022093474</td>\n",
       "      <td>DIMISSIONE</td>\n",
       "      <td>2022-10-01 00:20:00</td>\n",
       "      <td>-</td>\n",
       "      <td>4</td>\n",
       "      <td>A domicilio</td>\n",
       "      <td>-</td>\n",
       "      <td>1</td>\n",
       "      <td>0</td>\n",
       "    </tr>\n",
       "  </tbody>\n",
       "</table>\n",
       "<p>5731 rows × 9 columns</p>\n",
       "</div>"
      ],
      "text/plain": [
       "          CaseID         ACTIVITY            TIMESTAMP RESOURCE  ESI  \\\n",
       "0     2022090010           TRIAGE  2022-09-01 05:39:15   NURS_2    4   \n",
       "1     2022090010  PRESA IN CARICO  2022-09-01 05:51:00   DOCT_4    4   \n",
       "2     2022090010      LABORATORIO  2022-09-01 05:53:20        -    4   \n",
       "3     2022090010      LABORATORIO  2022-09-01 05:54:39        -    4   \n",
       "4     2022090010       DIMISSIONE  2022-09-01 13:15:00        -    4   \n",
       "...          ...              ...                  ...      ...  ...   \n",
       "5726  2022093474               RX  2022-09-30 23:04:32        -    4   \n",
       "5727  2022093474               RX  2022-09-30 23:04:32        -    4   \n",
       "5728  2022093474               RX  2022-09-30 23:04:32        -    4   \n",
       "5729  2022093474               RX  2022-09-30 23:04:32        -    4   \n",
       "5730  2022093474       DIMISSIONE  2022-10-01 00:20:00        -    4   \n",
       "\n",
       "          OUTCOME INPAT-HOSP-DEP  CumulativeTimeHours  CumulativeTimeDays  \n",
       "0     A domicilio              -                    0                   0  \n",
       "1     A domicilio              -                    0                   0  \n",
       "2     A domicilio              -                    0                   0  \n",
       "3     A domicilio              -                    0                   0  \n",
       "4     A domicilio              -                    7                   0  \n",
       "...           ...            ...                  ...                 ...  \n",
       "5726  A domicilio              -                    0                   0  \n",
       "5727  A domicilio              -                    0                   0  \n",
       "5728  A domicilio              -                    0                   0  \n",
       "5729  A domicilio              -                    0                   0  \n",
       "5730  A domicilio              -                    1                   0  \n",
       "\n",
       "[5731 rows x 9 columns]"
      ]
     },
     "execution_count": 15,
     "metadata": {},
     "output_type": "execute_result"
    }
   ],
   "source": [
    "df_log"
   ]
  },
  {
   "cell_type": "code",
   "execution_count": 16,
   "metadata": {},
   "outputs": [
    {
     "name": "stdout",
     "output_type": "stream",
     "text": [
      ">> Information on event log\n",
      "\n",
      "Cases (distinct 'CaseID' values): 695\n",
      "\n"
     ]
    }
   ],
   "source": [
    "print(\">> Information on event log\")\n",
    "print()\n",
    "# Number of distinct cases\n",
    "cases_num = df_log[log_key_col].nunique()\n",
    "print(f\"Cases (distinct '{log_key_col}' values): {cases_num}\")\n",
    "print()"
   ]
  },
  {
   "cell_type": "code",
   "execution_count": 17,
   "metadata": {},
   "outputs": [
    {
     "name": "stdout",
     "output_type": "stream",
     "text": [
      ">> Prefix extraction\n",
      "\n",
      "Prefix list: [2, 3, 4, 5]\n",
      "\n",
      "> Prefix size: 2\n",
      "Saving the event log prefix\n",
      "Path: data_log/EVENT-LOG_ED_filtered_2.csv\n",
      "\n",
      "> Prefix size: 3\n",
      "Saving the event log prefix\n",
      "Path: data_log/EVENT-LOG_ED_filtered_3.csv\n",
      "\n",
      "> Prefix size: 4\n",
      "Saving the event log prefix\n",
      "Path: data_log/EVENT-LOG_ED_filtered_4.csv\n",
      "\n",
      "> Prefix size: 5\n",
      "Saving the event log prefix\n",
      "Path: data_log/EVENT-LOG_ED_filtered_5.csv\n",
      "\n"
     ]
    }
   ],
   "source": [
    "print(\">> Prefix extraction\")\n",
    "print()\n",
    "print(\"Prefix list:\", prefix_list)\n",
    "print()\n",
    "for prefix_size in prefix_list:\n",
    "    print(\"> Prefix size:\", prefix_size)\n",
    "    df_log_prefix = get_top_n_rows_per_caseid(df_log, prefix_size, log_timestamp_col)\n",
    "    print(\"Saving the event log prefix\")\n",
    "    # ordering\n",
    "    file_out = f\"{Path(data_file).stem}_{prefix_size}.csv\" # get the input file name and add \"_{prefix_size}\"\n",
    "    path_out = Path(data_log_dir) / file_out\n",
    "    print(\"Path:\", path_out)\n",
    "    df_log_prefix.to_csv(path_out, sep=\";\", index=False)\n",
    "    print()"
   ]
  },
  {
   "cell_type": "code",
   "execution_count": 18,
   "metadata": {},
   "outputs": [
    {
     "name": "stdout",
     "output_type": "stream",
     "text": [
      "\n",
      "End process: 2024-06-12 10:35:10\n",
      "Time to finish: 0:00:00\n",
      "\n",
      "*** PROGRAM END ***\n",
      "\n"
     ]
    }
   ],
   "source": [
    "# program END\n",
    "end_time = datetime.now().replace(microsecond=0)\n",
    "delta_time = end_time - start_time\n",
    "\n",
    "print()\n",
    "print(\"End process:\", end_time)\n",
    "print(\"Time to finish:\", delta_time)\n",
    "\n",
    "print()\n",
    "print(\"*** PROGRAM END ***\")\n",
    "print()"
   ]
  }
 ],
 "metadata": {
  "kernelspec": {
   "display_name": "Python 3",
   "language": "python",
   "name": "python3"
  },
  "language_info": {
   "codemirror_mode": {
    "name": "ipython",
    "version": 3
   },
   "file_extension": ".py",
   "mimetype": "text/x-python",
   "name": "python",
   "nbconvert_exporter": "python",
   "pygments_lexer": "ipython3",
   "version": "3.12.2"
  }
 },
 "nbformat": 4,
 "nbformat_minor": 2
}
